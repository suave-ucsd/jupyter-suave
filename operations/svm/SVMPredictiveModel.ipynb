{
 "cells": [
  {
   "cell_type": "markdown",
   "metadata": {},
   "source": [
    "# SuAVE Image to Label SVM Prediction Model"
   ]
  },
  {
   "cell_type": "code",
   "execution_count": 27,
   "metadata": {},
   "outputs": [
    {
     "data": {
      "application/javascript": [
       "function getQueryStringValue (key)\n",
       "{  \n",
       "    return unescape(window.location.search.replace(new RegExp(\"^(?:.*[&\\\\?]\" + escape(key).replace(/[\\.\\+\\*]/g, \"\\\\$&\") + \"(?:\\\\=([^&]*))?)?.*$\", \"i\"), \"$1\"));\n",
       "}\n",
       "IPython.notebook.kernel.execute(\"survey_url='\".concat(getQueryStringValue(\"surveyurl\")).concat(\"'\"));\n",
       "IPython.notebook.kernel.execute(\"views='\".concat(getQueryStringValue(\"views\")).concat(\"'\"));\n",
       "IPython.notebook.kernel.execute(\"view='\".concat(getQueryStringValue(\"view\")).concat(\"'\"));\n",
       "IPython.notebook.kernel.execute(\"user='\".concat(getQueryStringValue(\"user\")).concat(\"'\"));\n",
       "IPython.notebook.kernel.execute(\"csv_file='\".concat(getQueryStringValue(\"csv\")).concat(\"'\")); \n",
       "IPython.notebook.kernel.execute(\"dzc_file='\".concat(getQueryStringValue(\"dzc\")).concat(\"'\")); \n",
       "IPython.notebook.kernel.execute(\"params='\".concat(getQueryStringValue(\"params\")).concat(\"'\")); \n",
       "IPython.notebook.kernel.execute(\"active_object='\".concat(getQueryStringValue(\"activeobject\")).concat(\"'\")); \n",
       "IPython.notebook.kernel.execute(\"full_notebook_url='\" + window.location + \"'\"); \n"
      ],
      "text/plain": [
       "<IPython.core.display.Javascript object>"
      ]
     },
     "metadata": {},
     "output_type": "display_data"
    }
   ],
   "source": [
    "%%javascript\n",
    "function getQueryStringValue (key)\n",
    "{  \n",
    "    return unescape(window.location.search.replace(new RegExp(\"^(?:.*[&\\\\?]\" + escape(key).replace(/[\\.\\+\\*]/g, \"\\\\$&\") + \"(?:\\\\=([^&]*))?)?.*$\", \"i\"), \"$1\"));\n",
    "}\n",
    "IPython.notebook.kernel.execute(\"survey_url='\".concat(getQueryStringValue(\"surveyurl\")).concat(\"'\"));\n",
    "IPython.notebook.kernel.execute(\"views='\".concat(getQueryStringValue(\"views\")).concat(\"'\"));\n",
    "IPython.notebook.kernel.execute(\"view='\".concat(getQueryStringValue(\"view\")).concat(\"'\"));\n",
    "IPython.notebook.kernel.execute(\"user='\".concat(getQueryStringValue(\"user\")).concat(\"'\"));\n",
    "IPython.notebook.kernel.execute(\"csv_file='\".concat(getQueryStringValue(\"csv\")).concat(\"'\")); \n",
    "IPython.notebook.kernel.execute(\"dzc_file='\".concat(getQueryStringValue(\"dzc\")).concat(\"'\")); \n",
    "IPython.notebook.kernel.execute(\"params='\".concat(getQueryStringValue(\"params\")).concat(\"'\")); \n",
    "IPython.notebook.kernel.execute(\"active_object='\".concat(getQueryStringValue(\"activeobject\")).concat(\"'\")); \n",
    "IPython.notebook.kernel.execute(\"full_notebook_url='\" + window.location + \"'\"); "
   ]
  },
  {
   "cell_type": "markdown",
   "metadata": {},
   "source": [
    "### Import all packages"
   ]
  },
  {
   "cell_type": "code",
   "execution_count": 28,
   "metadata": {},
   "outputs": [],
   "source": [
    "from __future__ import print_function\n",
    "import warnings\n",
    "warnings.filterwarnings('ignore')  # \"error\", \"ignore\", \"always\", \"default\", \"module\" or \"once\"\n",
    "\n",
    "# More imports\n",
    "import matplotlib.pyplot as plt\n",
    "import numpy as np\n",
    "import argparse\n",
    "import random\n",
    "import csv\n",
    "import pandas as pd\n",
    "import re\n",
    "import cv2\n",
    "import os\n",
    "\n",
    "# import the necessary packages for SVM predictor\n",
    "from sklearn.preprocessing import LabelEncoder\n",
    "from sklearn.svm import LinearSVC\n",
    "from sklearn.metrics import classification_report\n",
    "from sklearn.model_selection import train_test_split\n",
    "import imutils\n",
    "import joblib\n",
    "\n",
    "# import histogram func\n",
    "from histogram import Histograms\n",
    "\n",
    "# Import widget functionality\n",
    "from ipywidgets import interact, interactive, fixed, interact_manual\n",
    "import ipywidgets as widgets\n",
    "\n",
    "\n",
    "import requests\n",
    "from bs4 import BeautifulSoup\n",
    "from urllib.parse import urljoin"
   ]
  },
  {
   "cell_type": "markdown",
   "metadata": {},
   "source": [
    "## Run and choose the column name that coresponds with the column label to be predicted"
   ]
  },
  {
   "cell_type": "code",
   "execution_count": 29,
   "metadata": {
    "scrolled": true
   },
   "outputs": [
   ],
   "source": [
    "# use csv file to grab images/labels\n",
    "csv_path = \"/home/jovyan/temp_csvs/\" + csv_file\n",
    "df = pd.read_csv(csv_path)\n",
    "\n",
    "localdzc = dzc_file.replace(\"https://maxim.ucsd.edu/dzgen/lib-staging-uploads\",\"/lib-nfs/dzgen\")\n",
    "full_images_location = localdzc.replace(\"/content.dzc\",\"/full_images/\")\n",
    "\n",
    "from bs4 import BeautifulSoup\n",
    "from urllib.parse import urljoin\n",
    "\n",
    "response = requests.get(full_images_location)\n",
    "soup = BeautifulSoup(response.text, 'html.parser')\n",
    "\n",
    "image_links = soup.find_all('a', href=True)\n",
    "\n",
    "image_urls = []\n",
    "\n",
    "def get_string_before_last_period(input_string):\n",
    "    parts = input_string.rsplit('.', 1)\n",
    "    if len(parts) > 1:\n",
    "        return parts[0]\n",
    "    else:\n",
    "        return input_string\n",
    "\n",
    "images_in_df = list(df[\"#img\"].unique())\n",
    "\n",
    "for link in image_links:\n",
    "    image_url = link['href']\n",
    "    if get_string_before_last_period(image_url) in images_in_df:\n",
    "    \n",
    "        if not image_url.startswith(('http:', 'https:')):\n",
    "            full_image_url = urljoin(full_images_location, image_url)\n",
    "        else:\n",
    "            full_image_url = image_url\n",
    "\n",
    "        image_urls.append(full_image_url)",
    "\n",
    "\n",
    "# Choose column of label for prediction\n",
    "toPredict = list(df.columns.values)\n",
    "\n",
    "pred_menu = {}\n",
    "for i in range(0, len(toPredict)):\n",
    "    pred_menu[toPredict[i]] = toPredict[i]\n",
    "\n",
    "def f(predictions_menu):\n",
    "    return predictions_menu\n",
    "\n",
    "out2 = interact(f, predictions_menu=pred_menu)"
   ]
  },
  {
   "cell_type": "markdown",
   "metadata": {},
   "source": [
    "## Choose type of histogram to extract from images"
   ]
  },
  {
   "cell_type": "code",
   "execution_count": 30,
   "metadata": {},
   "outputs": [
    {
     "data": {
      "application/vnd.jupyter.widget-view+json": {
       "model_id": "8f8b9b65b5634468a7f4a1d3c2c4dd52",
       "version_major": 2,
       "version_minor": 0
      },
      "text/plain": [
       "interactive(children=(Dropdown(description='histogram_type', options={'HSV Color Histogram': 0, 'Blue Histogra…"
      ]
     },
     "metadata": {},
     "output_type": "display_data"
    }
   ],
   "source": [
    "hist_type = { \n",
    "    'HSV Color Histogram': 0,\n",
    "    'Blue Histogram': 1,\n",
    "    'Red Histogram': 2,\n",
    "    'Green Histogram': 3\n",
    "    }\n",
    "\n",
    "def f(histogram_type):\n",
    "    return histogram_type\n",
    "typeH= interact(f, histogram_type=hist_type);"
   ]
  },
  {
   "cell_type": "markdown",
   "metadata": {},
   "source": [
    "## Get histogram from each image in the dataset"
   ]
  },
  {
   "cell_type": "code",
   "execution_count": 31,
   "metadata": {},
   "outputs": [
   ],
   "source": [
    "# init the image suffix\n",
    "suffix = '.jpg'\n",
    "labels = []\n",
    "\n",
    "labelHeader = out2.widget.result\n",
    "\n",
    "# grab chosen column names\n",
    "nameCol = df['#img']\n",
    "predCol = df[labelHeader]\n",
    "\n",
    "# add all fabric columns to the y set\n",
    "for i in range (0,len(predCol)):\n",
    "    labels.append(predCol[i])\n",
    "# create new hist_list\n",
    "hist_list = []\n",
    "# gather images from path created from file names in csv file\n",
    "for i in range(len(nameCol)):\n",
    "    image_name = nameCol[i]\n",
    "    url = full_images_location + image_name + \".png\"\n",
    "    response = requests.get(url)\n",
    "\n",
    "    if response.status_code == 200:\n",
    "        # Read the image from the response content\n",
    "        image_bytes = np.frombuffer(response.content, np.uint8)\n",
    "        im = cv2.imdecode(image_bytes, cv2.IMREAD_COLOR)\n",
    "    else:\n",
    "        print(f\"Failed to fetch image from URL: {url}\")\n",
    "    if typeH == 0:\n",
    "        hist = Histograms.extract_color_histogram(im)\n",
    "    elif typeH == 1: \n",
    "        hist = Histograms.extract_blue_histogram(im)\n",
    "    elif typeH == 2: \n",
    "        hist = Histograms.extract_red_histogram(im)\n",
    "    elif typeH == 3: \n",
    "        hist = Histograms.extract_green_histogram(im)\n",
    "    hist_list.append(hist)\n",
    "    \n",
    "# transform labels into numerical system\n",
    "le = LabelEncoder()\n",
    "labels = le.fit_transform(predCol)\n",
    "\n",
    "\n",
    "\n",
    "# separate data into test/train sets for features/labels\n",
    "(xtrain, xtest, ytrain, ytest) = train_test_split(np.array(hist_list),labels, test_size = 0.5)\n",
    "\n",
    "# Train the linear regression classifier\n",
    "model2 = LinearSVC()\n",
    "model2.fit(xtrain, ytrain)\n",
    "\n",
    "# Calculate predictions on the data set\n",
    "predictions = model2.predict(np.array(hist_list))\n",
    "target_names = [str(class_name) for class_name in le.classes_]\n",
    "\n",
    "print(classification_report(labels, predictions, target_names=target_names))"
   ]
  },
  {
   "cell_type": "code",
   "execution_count": 36,
   "metadata": {},
   "outputs": [
    {
     "data": {
      "text/plain": [
       "['models/joeykaminsky2_svm_Name_0.pkl']"
      ]
     },
     "execution_count": 36,
     "metadata": {},
     "output_type": "execute_result"
    }
   ],
   "source": [
    "# save the label\n",
    "filePath = \"labels/\"\n",
    "fileName = labelHeader + '_' + csv_file[:-4] + '_svmModel' + '.txt'\n",
    "file = open(os.path.join(filePath, fileName),\"a+\") \n",
    "file.write(str(typeH))\n",
    "file.write(out2.widget.result)\n",
    "file.close()\n",
    "\n",
    "#Generate model file and save\n",
    "\n",
    "modelPath = \"models/\"\n",
    "modelName =  user + \"_svm_\" + out2.widget.result + \"_\" + str(typeH) + \".pkl\"\n",
    "joblib.dump(model2, os.path.join(modelPath, modelName)) "
   ]
  },
  {
   "cell_type": "code",
   "execution_count": 37,
   "metadata": {},
   "outputs": [
    {
     "data": {
      "text/plain": [
       "0"
      ]
     },
     "execution_count": 37,
     "metadata": {},
     "output_type": "execute_result"
    }
   ],
   "source": [
    "typeH"
   ]
  },
  {
   "cell_type": "code",
   "execution_count": 38,
   "metadata": {},
   "outputs": [
    {
     "data": {
      "text/plain": [
       "'Name'"
      ]
     },
     "execution_count": 38,
     "metadata": {},
     "output_type": "execute_result"
    }
   ],
   "source": [
    "labelHeader"
   ]
  },
  {
   "cell_type": "code",
   "execution_count": 39,
   "metadata": {},
   "outputs": [
    {
     "data": {
      "text/plain": [
       "'Name_joeykaminsky2_Tester_13svmModel.txt'"
      ]
     },
     "execution_count": 39,
     "metadata": {},
     "output_type": "execute_result"
    }
   ],
   "source": [
    "labelHeader + '_' + csv_file[:-4] + 'svmModel' + '.txt'"
   ]
  },
  {
   "cell_type": "code",
   "execution_count": null,
   "metadata": {},
   "outputs": [],
   "source": []
  }
 ],
 "metadata": {
  "kernelspec": {
   "display_name": "Python 3 (ipykernel)",
   "language": "python",
   "name": "python3"
  },
  "language_info": {
   "codemirror_mode": {
    "name": "ipython",
    "version": 3
   },
   "file_extension": ".py",
   "mimetype": "text/x-python",
   "name": "python",
   "nbconvert_exporter": "python",
   "pygments_lexer": "ipython3",
   "version": "3.10.10"
  }
 },
 "nbformat": 4,
 "nbformat_minor": 2
}
