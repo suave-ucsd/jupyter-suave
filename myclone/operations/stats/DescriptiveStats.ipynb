{
 "cells": [
  {
   "cell_type": "markdown",
   "metadata": {},
   "source": [
    "<h1><span style=\"color:red\">Descriptive Statistics for Numeric Variables</span></h1>\n",
    "### This sample notebook reads numeric variables from survey dataset and computes several descriptive statistics"
   ]
  },
  {
   "cell_type": "markdown",
   "metadata": {},
   "source": [
    "## 1. Retrieve survey parameters from the URL"
   ]
  },
  {
   "cell_type": "code",
   "execution_count": 25,
   "metadata": {},
   "outputs": [
    {
     "data": {
      "application/javascript": [
       "function getQueryStringValue (key)\n",
       "{  \n",
       "    return unescape(window.location.search.replace(new RegExp(\"^(?:.*[&\\\\?]\" + escape(key).replace(/[\\.\\+\\*]/g, \"\\\\$&\") + \"(?:\\\\=([^&]*))?)?.*$\", \"i\"), \"$1\"));\n",
       "}\n",
       "IPython.notebook.kernel.execute(\"survey_url='\".concat(getQueryStringValue(\"surveyurl\")).concat(\"'\"));\n",
       "IPython.notebook.kernel.execute(\"views='\".concat(getQueryStringValue(\"views\")).concat(\"'\"));\n",
       "IPython.notebook.kernel.execute(\"view='\".concat(getQueryStringValue(\"view\")).concat(\"'\"));\n",
       "IPython.notebook.kernel.execute(\"user='\".concat(getQueryStringValue(\"user\")).concat(\"'\"));\n",
       "IPython.notebook.kernel.execute(\"csv_file='\".concat(getQueryStringValue(\"csv\")).concat(\"'\")); \n",
       "IPython.notebook.kernel.execute(\"dzc_file='\".concat(getQueryStringValue(\"dzc\")).concat(\"'\")); \n",
       "IPython.notebook.kernel.execute(\"params='\".concat(getQueryStringValue(\"params\")).concat(\"'\")); \n",
       "IPython.notebook.kernel.execute(\"active_object='\".concat(getQueryStringValue(\"activeobject\")).concat(\"'\")); \n",
       "IPython.notebook.kernel.execute(\"full_notebook_url='\" + window.location + \"'\"); "
      ],
      "text/plain": [
       "<IPython.core.display.Javascript object>"
      ]
     },
     "metadata": {},
     "output_type": "display_data"
    }
   ],
   "source": [
    "%%javascript\n",
    "function getQueryStringValue (key)\n",
    "{  \n",
    "    return unescape(window.location.search.replace(new RegExp(\"^(?:.*[&\\\\?]\" + escape(key).replace(/[\\.\\+\\*]/g, \"\\\\$&\") + \"(?:\\\\=([^&]*))?)?.*$\", \"i\"), \"$1\"));\n",
    "}\n",
    "IPython.notebook.kernel.execute(\"survey_url='\".concat(getQueryStringValue(\"surveyurl\")).concat(\"'\"));\n",
    "IPython.notebook.kernel.execute(\"views='\".concat(getQueryStringValue(\"views\")).concat(\"'\"));\n",
    "IPython.notebook.kernel.execute(\"view='\".concat(getQueryStringValue(\"view\")).concat(\"'\"));\n",
    "IPython.notebook.kernel.execute(\"user='\".concat(getQueryStringValue(\"user\")).concat(\"'\"));\n",
    "IPython.notebook.kernel.execute(\"csv_file='\".concat(getQueryStringValue(\"csv\")).concat(\"'\")); \n",
    "IPython.notebook.kernel.execute(\"dzc_file='\".concat(getQueryStringValue(\"dzc\")).concat(\"'\")); \n",
    "IPython.notebook.kernel.execute(\"params='\".concat(getQueryStringValue(\"params\")).concat(\"'\")); \n",
    "IPython.notebook.kernel.execute(\"active_object='\".concat(getQueryStringValue(\"activeobject\")).concat(\"'\")); \n",
    "IPython.notebook.kernel.execute(\"full_notebook_url='\" + window.location + \"'\"); "
   ]
  },
  {
   "cell_type": "markdown",
   "metadata": {},
   "source": [
    "## 2. Read the survey file and extract numeric variables"
   ]
  },
  {
   "cell_type": "code",
   "execution_count": 26,
   "metadata": {},
   "outputs": [
    {
     "data": {
      "text/markdown": [
       "<b><span style='color:red'>All variables in the survey file:</span></b>"
      ],
      "text/plain": [
       "<IPython.core.display.Markdown object>"
      ]
     },
     "metadata": {},
     "output_type": "display_data"
    },
    {
     "name": "stdout",
     "output_type": "stream",
     "text": [
      "['Index#number #hidden' 'ZipCode' 'BreedName' 'weight#number' '#img'\n",
      " 'median_income#number' 'FELONY#number' 'MISDEMEANOR#number'\n",
      " 'num_crimes#number' 'price#number' '#name' 'geometry#hiddenmore']\n"
     ]
    },
    {
     "data": {
      "text/markdown": [
       "<b><span style='color:red'>Numeric variables:</span></b>"
      ],
      "text/plain": [
       "<IPython.core.display.Markdown object>"
      ]
     },
     "metadata": {},
     "output_type": "display_data"
    },
    {
     "name": "stdout",
     "output_type": "stream",
     "text": [
      "{'price': 'price#number', 'median_income': 'median_income#number', 'Index': 'Index#number #hidden', 'MISDEMEANOR': 'MISDEMEANOR#number', 'num_crimes': 'num_crimes#number', 'weight': 'weight#number', 'FELONY': 'FELONY#number'}\n"
     ]
    }
   ],
   "source": [
    "from __future__ import print_function\n",
    "from ipywidgets import interact, interactive, fixed, interact_manual\n",
    "import ipywidgets as widgets\n",
    "import pandas as pd\n",
    "import math\n",
    "import numpy as np\n",
    "import matplotlib.pyplot as plt\n",
    "import seaborn as sb\n",
    "from sklearn.linear_model import LinearRegression\n",
    "import os\n",
    "from IPython.display import Markdown, display\n",
    "def printmd(string):\n",
    "    display(Markdown(string))\n",
    "\n",
    "absolutePath = \"../../temp_csvs/\"\n",
    "\n",
    "# read the csv file\n",
    "file = open(absolutePath + csv_file, encoding=\"latin-1\")\n",
    "# print(absolutePath + csv_file)\n",
    "df = pd.read_csv(file)\n",
    "\n",
    "# create a list of variable names\n",
    "variables_df = pd.DataFrame({'varname':df.columns})\n",
    "printmd(\"<b><span style='color:red'>All variables in the survey file:</span></b>\")\n",
    "print(variables_df.varname.values)\n",
    "\n",
    "#create a dataframe of only #number variables\n",
    "nums_df = df[[n for n in variables_df.varname.values if '#number' in n]]\n",
    "\n",
    "# create a dictionary of #number variables with abbreviated and full variable names \n",
    "var_list = {n[:n.index('#')]:n for n in variables_df.varname.values if '#number' in n}\n",
    "printmd(\"<b><span style='color:red'>Numeric variables:</span></b>\")\n",
    "print(var_list)\n"
   ]
  },
  {
   "cell_type": "markdown",
   "metadata": {},
   "source": [
    "## 3. Matrix of scatterplots\n",
    "\n",
    "- Select variables for the scatterplots in the first cell\n",
    "- Generate the scatterplots in the second cell"
   ]
  },
  {
   "cell_type": "code",
   "execution_count": 69,
   "metadata": {},
   "outputs": [
    {
     "data": {
      "text/markdown": [
       "<b><span style='color:red'>Select variables for scatter matrix plotting, then run the next cell</span></b>"
      ],
      "text/plain": [
       "<IPython.core.display.Markdown object>"
      ]
     },
     "metadata": {},
     "output_type": "display_data"
    },
    {
     "data": {
      "application/vnd.jupyter.widget-view+json": {
       "model_id": "7a4ef2a37ee04c099614a6bf2855df13",
       "version_major": 2,
       "version_minor": 0
      },
      "text/plain": [
       "Dropdown(description='1:', options=('price', 'median_income', 'Index', 'MISDEMEANOR', 'num_crimes', 'weight', …"
      ]
     },
     "metadata": {},
     "output_type": "display_data"
    },
    {
     "data": {
      "application/vnd.jupyter.widget-view+json": {
       "model_id": "df5c119f288249a58c42b086dd285a0a",
       "version_major": 2,
       "version_minor": 0
      },
      "text/plain": [
       "Dropdown(description='2:', index=1, options=('price', 'median_income', 'Index', 'MISDEMEANOR', 'num_crimes', '…"
      ]
     },
     "metadata": {},
     "output_type": "display_data"
    },
    {
     "data": {
      "application/vnd.jupyter.widget-view+json": {
       "model_id": "03f1ae785ed14049907657856eb606aa",
       "version_major": 2,
       "version_minor": 0
      },
      "text/plain": [
       "Dropdown(description='3:', index=2, options=('price', 'median_income', 'Index', 'MISDEMEANOR', 'num_crimes', '…"
      ]
     },
     "metadata": {},
     "output_type": "display_data"
    },
    {
     "data": {
      "application/vnd.jupyter.widget-view+json": {
       "model_id": "5454a95d269041f4b0263e2d3575fc99",
       "version_major": 2,
       "version_minor": 0
      },
      "text/plain": [
       "Dropdown(description='4:', index=3, options=('price', 'median_income', 'Index', 'MISDEMEANOR', 'num_crimes', '…"
      ]
     },
     "metadata": {},
     "output_type": "display_data"
    },
    {
     "data": {
      "application/vnd.jupyter.widget-view+json": {
       "model_id": "d9497d40af77458fa8487b35746aeb4b",
       "version_major": 2,
       "version_minor": 0
      },
      "text/plain": [
       "Dropdown(description='5:', index=4, options=('price', 'median_income', 'Index', 'MISDEMEANOR', 'num_crimes', '…"
      ]
     },
     "metadata": {},
     "output_type": "display_data"
    }
   ],
   "source": [
    "# 3.1 Choose variables for scattermatrix\n",
    "\n",
    "#creating widgets\n",
    "wlist = []\n",
    "i = 0\n",
    "\n",
    "while i < 5 and i < len(var_list):\n",
    "    wlist.append(widgets.Dropdown(options=var_list.keys(), value = list(var_list.keys())[i], description = str(i+1) + \":\"))\n",
    "    i += 1\n",
    "  \n",
    "printmd(\"<b><span style='color:red'>Select variables for scatter matrix plotting, then run the next cell</span></b>\")\n",
    "\n",
    "for n in wlist:\n",
    "    display(n)"
   ]
  },
  {
   "cell_type": "code",
   "execution_count": 78,
   "metadata": {},
   "outputs": [
    {
     "data": {
      "text/markdown": [
       "<br><b><span style='color:red'>Scatter matrix for the selected variables</span></b>"
      ],
      "text/plain": [
       "<IPython.core.display.Markdown object>"
      ]
     },
     "metadata": {},
     "output_type": "display_data"
    },
    {
     "data": {
      "image/png": "[encoded data removed]",
      "text/plain": [
       "<Figure size 720x720 with 16 Axes>"
      ]
     },
     "metadata": {},
     "output_type": "display_data"
    }
   ],
   "source": [
    "# 3.2 Create the scattermatrix\n",
    "\n",
    "#scattermatrix\n",
    "scat_df = df[[var_list[n.value] for n in wlist]]\n",
    "\n",
    "#check if variables different\n",
    "if len(list(scat_df)) != len(set(list(scat_df))):\n",
    "    printmd(\"<b><span style='color:red'>Make sure all selected variables are different, then rerun this cell</span></b>\")\n",
    "else:\n",
    "    #plot\n",
    "    printmd(\"<br><b><span style='color:red'>Scatter matrix for the selected variables</span></b>\")\n",
    "\n",
    "    wot = pd.plotting.scatter_matrix(scat_df, alpha=0.2, figsize=(10, 10), diagonal='kde')\n",
    "    #axis\n",
    "    for n in range(len(wot)):\n",
    "        for j in range(len(wot)):\n",
    "            ax = wot[n, j]\n",
    "            ax.set(xlabel=wlist[j].value, ylabel=wlist[n].value)"
   ]
  },
  {
   "cell_type": "markdown",
   "metadata": {},
   "source": [
    "## 4. Scatterplot and linear regression\n",
    "\n",
    "- Select variables for the regression in the first cell\n",
    "- Generate the plot in the second cell"
   ]
  },
  {
   "cell_type": "code",
   "execution_count": 84,
   "metadata": {},
   "outputs": [
    {
     "data": {
      "text/markdown": [
       "<b><span style='color:red'>Select x and y variables for plotting, then run the next cell</span></b>"
      ],
      "text/plain": [
       "<IPython.core.display.Markdown object>"
      ]
     },
     "metadata": {},
     "output_type": "display_data"
    },
    {
     "data": {
      "application/vnd.jupyter.widget-view+json": {
       "model_id": "32046c107784461d8b0ff84477f06459",
       "version_major": 2,
       "version_minor": 0
      },
      "text/plain": [
       "VBox(children=(Dropdown(description='x:', options=('price', 'median_income', 'Index', 'MISDEMEANOR', 'num_crim…"
      ]
     },
     "metadata": {},
     "output_type": "display_data"
    },
    {
     "data": {
      "application/vnd.jupyter.widget-view+json": {
       "model_id": "560bfe8f654c4557958f2062e258c563",
       "version_major": 2,
       "version_minor": 0
      },
      "text/plain": [
       "Output()"
      ]
     },
     "metadata": {},
     "output_type": "display_data"
    }
   ],
   "source": [
    "# 4.1 Choose the variables for the scatterplot\n",
    "\n",
    "#creating widgets\n",
    "a4 = widgets.Dropdown(options=var_list.keys(), value = list(var_list.keys())[0], description = \"x:\")\n",
    "b4 = widgets.Dropdown(options=var_list.keys(), value = list(var_list.keys())[1], description = \"y:\")\n",
    "ui = widgets.VBox([a4, b4])\n",
    "def f4(a, b):\n",
    "    return ((a, b))\n",
    "\n",
    "printmd(\"<b><span style='color:red'>Select x and y variables for plotting, then run the next cell</span></b>\")\n",
    "\n",
    "formula = widgets.interactive_output(f4, {'a': a4, 'b': b4})\n",
    "\n",
    "display(ui, formula)\n"
   ]
  },
  {
   "cell_type": "code",
   "execution_count": 86,
   "metadata": {},
   "outputs": [
    {
     "data": {
      "text/markdown": [
       "<b><span style='color:red'><br>Scatterplot with regression line and confidence intervals:</span></b>"
      ],
      "text/plain": [
       "<IPython.core.display.Markdown object>"
      ]
     },
     "metadata": {},
     "output_type": "display_data"
    },
    {
     "data": {
      "image/png": "[encoded data removed]",
      "text/plain": [
       "<Figure size 432x288 with 1 Axes>"
      ]
     },
     "metadata": {},
     "output_type": "display_data"
    }
   ],
   "source": [
    "# 4.2 Create the scatterplot and regression line\n",
    "\n",
    "x4 = df[var_list[a4.value]].tolist()\n",
    "y4 = df[var_list[b4.value]].tolist()\n",
    "\n",
    "# check if variables different\n",
    "if a4.value == b4.value:\n",
    "    printmd(\"<b><span style='color:red'>Make sure the selected variables are different, then rerun this cell</span></b>\")\n",
    "\n",
    "else:\n",
    "    try:\n",
    "        printmd(\"<b><span style='color:red'><br>Scatterplot with regression line and confidence intervals:</span></b>\")\n",
    "        ax = sb.regplot(var_list[a4.value], var_list[b4.value], df, scatter_kws={\"s\": 20, \"color\" : \"red\", \"alpha\" : \"0.2\"})\n",
    "        #axis\n",
    "        ax.set(xlabel=a4.value, ylabel=b4.value)\n",
    "        plt.show()\n",
    "    except:\n",
    "        printmd(\"<b><span style='color:red'>Cannot plot. One or both variables contain non-numeric values!!</span></b>\")\n",
    "\n",
    "#adding the log regline\n",
    "#fitl = np.polyfit(np.log(x), y, 1).tolist()\n",
    "#x.sort()\n",
    "#y1 = [np.log(i)*fitl[0] + fitl[1] for i in x]\n",
    "#plt.plot(x, y1, \"-r\")\n",
    "\n",
    "#end plot"
   ]
  },
  {
   "cell_type": "markdown",
   "metadata": {},
   "source": [
    "## 5. Mean, standard deviation, skew, etc...\n",
    "\n",
    "- Select a variable in the first cell\n",
    "- Generate statistics in the second cell"
   ]
  },
  {
   "cell_type": "code",
   "execution_count": 87,
   "metadata": {},
   "outputs": [
    {
     "data": {
      "text/markdown": [
       "<b><span style='color:red'><br>Select variable for descriptive statistics, then run the next cell</span></b>"
      ],
      "text/plain": [
       "<IPython.core.display.Markdown object>"
      ]
     },
     "metadata": {},
     "output_type": "display_data"
    },
    {
     "data": {
      "application/vnd.jupyter.widget-view+json": {
       "model_id": "357245da306445288cb2935206abe0b2",
       "version_major": 2,
       "version_minor": 0
      },
      "text/plain": [
       "VBox(children=(Dropdown(description='Variable:', options=('price', 'median_income', 'Index', 'MISDEMEANOR', 'n…"
      ]
     },
     "metadata": {},
     "output_type": "display_data"
    },
    {
     "data": {
      "application/vnd.jupyter.widget-view+json": {
       "model_id": "09bf3a5441034763aad9b823f95fd152",
       "version_major": 2,
       "version_minor": 0
      },
      "text/plain": [
       "Output()"
      ]
     },
     "metadata": {},
     "output_type": "display_data"
    }
   ],
   "source": [
    "# 5.2 Choose the variable to calculate descriptive statistics\n",
    "\n",
    "# creating widgets\n",
    "a5 = widgets.Dropdown(options=var_list.keys(), description = \"Variable:\")\n",
    "ui = widgets.VBox([a5])\n",
    "def f5(a):\n",
    "    return (a)\n",
    "\n",
    "printmd(\"<b><span style='color:red'><br>Select variable for descriptive statistics, then run the next cell</span></b>\")\n",
    "\n",
    "formula = widgets.interactive_output(f5, {'a': a5})\n",
    "\n",
    "display(ui, formula)"
   ]
  },
  {
   "cell_type": "code",
   "execution_count": 90,
   "metadata": {},
   "outputs": [
    {
     "name": "stdout",
     "output_type": "stream",
     "text": [
      "Mean of variable   : 1178.5108695652175\n",
      "Standard deviation : 843.973285705793\n",
      "Variance           : 712290.9069850321\n",
      "Skew               : 0.5366292102180446\n",
      "Histogram          :\n"
     ]
    },
    {
     "data": {
      "image/png": "[encoded data removed]",
      "text/plain": [
       "<Figure size 432x288 with 1 Axes>"
      ]
     },
     "metadata": {},
     "output_type": "display_data"
    }
   ],
   "source": [
    "# 5.2 Show the descriptive statistics\n",
    "\n",
    "try:\n",
    "    # calculating descriptive stats\n",
    "    var = df[var_list[a5.value]]\n",
    "    vmean = var.mean()\n",
    "    vsd = var.std()\n",
    "    vskew = var.skew()\n",
    "    vvar = var.var()\n",
    "\n",
    "    # printing descriptive stats\n",
    "    print(\"Mean of variable   : \" + str(vmean))\n",
    "    print(\"Standard deviation : \" + str(vsd))\n",
    "    print(\"Variance           : \" + str(vvar))\n",
    "    print(\"Skew               : \" + str(vskew))\n",
    "\n",
    "    # plot\n",
    "    print(\"Histogram          :\")\n",
    "    ax = var.hist()\n",
    "    # axis\n",
    "    ax.set(xlabel=a.value)\n",
    "    noout = plt.axvline(vmean, color='red', linestyle='dashed', linewidth=2)\n",
    "except:\n",
    "    printmd(\"<b><span style='color:red'>Cannot compute. The variable contains non-numeric values!!</span></b>\")\n"
   ]
  },
  {
   "cell_type": "markdown",
   "metadata": {},
   "source": [
    "## 6. Generate a new statistical variable to add to SuAVE\n",
    "\n",
    "- select a variable and an operation in the first cell\n",
    "- edit variable name in the second cell\n",
    "- compute the new variable in the third cell"
   ]
  },
  {
   "cell_type": "code",
   "execution_count": 91,
   "metadata": {
    "scrolled": true
   },
   "outputs": [
    {
     "data": {
      "text/markdown": [
       "<b><span style='color:red'><br>Select a variable and a derivative to create, then run the next cell</span></b>"
      ],
      "text/plain": [
       "<IPython.core.display.Markdown object>"
      ]
     },
     "metadata": {},
     "output_type": "display_data"
    },
    {
     "data": {
      "application/vnd.jupyter.widget-view+json": {
       "model_id": "b00302c1d0d046fcbe2d631162a10fda",
       "version_major": 2,
       "version_minor": 0
      },
      "text/plain": [
       "VBox(children=(Dropdown(options=('price', 'median_income', 'Index', 'MISDEMEANOR', 'num_crimes', 'weight', 'FE…"
      ]
     },
     "metadata": {},
     "output_type": "display_data"
    },
    {
     "data": {
      "application/vnd.jupyter.widget-view+json": {
       "model_id": "703d65e3993a492fa9e979c7c4edc515",
       "version_major": 2,
       "version_minor": 0
      },
      "text/plain": [
       "Output()"
      ]
     },
     "metadata": {},
     "output_type": "display_data"
    }
   ],
   "source": [
    "# 6.1 Select a variable for processing\n",
    "\n",
    "a6 = widgets.Dropdown(options=var_list.keys())\n",
    "b6 = widgets.Dropdown(options=['Number of SDs', 'Abs dist from mean'])\n",
    "ui = widgets.VBox([a6, b6])\n",
    "def f6(a, b):\n",
    "    return ((a, b))\n",
    "\n",
    "formula = widgets.interactive_output(f6, {'a': a6, 'b': b6})\n",
    "\n",
    "printmd(\"<b><span style='color:red'><br>Select a variable and a derivative to create, then run the next cell</span></b>\")\n",
    "\n",
    "display(ui, formula)"
   ]
  },
  {
   "cell_type": "code",
   "execution_count": 94,
   "metadata": {},
   "outputs": [
    {
     "data": {
      "application/vnd.jupyter.widget-view+json": {
       "model_id": "8dc8de0ca449402daea7e086e754b6a4",
       "version_major": 2,
       "version_minor": 0
      },
      "text/plain": [
       "interactive(children=(Text(value='NSD for median_income#number', description='Var_Name'), Output()), _dom_clas…"
      ]
     },
     "metadata": {},
     "output_type": "display_data"
    },
    {
     "data": {
      "text/markdown": [
       "<b><span style='color:red'>After defining variable name hit Enter, then run the next cell</span></b>"
      ],
      "text/plain": [
       "<IPython.core.display.Markdown object>"
      ]
     },
     "metadata": {},
     "output_type": "display_data"
    }
   ],
   "source": [
    "# 6.2 Give a name to the new variable\n",
    "\n",
    "def f62(Var_Name):\n",
    "    return Var_Name\n",
    "if b6.value == \"Abs dist from mean\":\n",
    "    newvar = interact(f62, Var_Name= \"ADFM\" + \" on \" + a6.value +'#number')\n",
    "elif b6.value == \"Number of SDs\":\n",
    "    newvar = interact(f62, Var_Name= \"NSD\" + \" for \" + a6.value +'#number')\n",
    "    \n",
    "printmd(\"<b><span style='color:red'>After defining variable name hit Enter, then run the next cell</span></b>\")\n"
   ]
  },
  {
   "cell_type": "code",
   "execution_count": 95,
   "metadata": {},
   "outputs": [
    {
     "data": {
      "text/markdown": [
       "<b><span style='color:red'>Cannot compute. The variable contains non-numeric values!!</span></b>"
      ],
      "text/plain": [
       "<IPython.core.display.Markdown object>"
      ]
     },
     "metadata": {},
     "output_type": "display_data"
    }
   ],
   "source": [
    "# 6.3 Compute the new variable and format it for SuAVE\n",
    "\n",
    "try: \n",
    "    mean = df[var_list[a6.value]].mean()\n",
    "    std = df[var_list[a6.value]].std()\n",
    "\n",
    "    if b6.value == 'Abs dist from mean':\n",
    "        df[newvar.widget.result] = [abs(i - mean) if not math.isnan(i) else pd.np.nan for i in df[var_list[a6.value]]]\n",
    "    elif b6.value == 'Number of SDs':\n",
    "        df[newvar.widget.result] = [math.ceil(abs(i - mean) / std) if not math.isnan(i) else pd.np.nan for i in df[var_list[a6.value]]]\n",
    "\n",
    "\n",
    "    # make sure there are no illegal NaN type values in this #number variable\n",
    "    df[newvar.widget.result].fillna('',inplace=True)\n",
    "    df[newvar.widget.result] = pd.to_numeric(df[newvar.widget.result], errors='coerce', downcast='float')\n",
    "    df[newvar.widget.result] = df[newvar.widget.result].apply(lambda x: '{:.6f}'.format(x))\n",
    "    df.replace(['None', 'nan'], pd.np.nan, inplace=True)\n",
    "    printmd(\"<b><span style='color:red'>New variable computed</span></b>\")\n",
    "\n",
    "except:\n",
    "    printmd(\"<b><span style='color:red'>Cannot compute. The variable contains non-numeric values!!</span></b>\")\n"
   ]
  },
  {
   "cell_type": "markdown",
   "metadata": {},
   "source": [
    "## 7. Save the new version of CSV file, and give a name to new survey"
   ]
  },
  {
   "cell_type": "code",
   "execution_count": 64,
   "metadata": {},
   "outputs": [
    {
     "data": {
      "text/markdown": [
       "<b><span style='color:red'>A new temporary file will be created at: </span></b>"
      ],
      "text/plain": [
       "<IPython.core.display.Markdown object>"
      ]
     },
     "metadata": {},
     "output_type": "display_data"
    },
    {
     "name": "stdout",
     "output_type": "stream",
     "text": [
      "../../temp_csvs/ilyaj_hetsvi2_v1.csv\n"
     ]
    }
   ],
   "source": [
    "# new filename\n",
    "new_file = absolutePath + csv_file[:-4]+'_v1.csv'\n",
    "printmd(\"<b><span style='color:red'>A new temporary file will be created at: </span></b>\")\n",
    "print(new_file)\n",
    "df.to_csv(new_file, index=None)"
   ]
  },
  {
   "cell_type": "code",
   "execution_count": 65,
   "metadata": {},
   "outputs": [
    {
     "data": {
      "text/markdown": [
       "<b><span style='color:red'>Input survey name here, press Enter, and then run the next cell:</span></b>"
      ],
      "text/plain": [
       "<IPython.core.display.Markdown object>"
      ]
     },
     "metadata": {},
     "output_type": "display_data"
    },
    {
     "data": {
      "application/vnd.jupyter.widget-view+json": {
       "model_id": "2e21ed6ac1db4305bfcb9f107832cb91",
       "version_major": 2,
       "version_minor": 0
      },
      "text/plain": [
       "Text(value='')"
      ]
     },
     "metadata": {},
     "output_type": "display_data"
    },
    {
     "data": {
      "application/vnd.jupyter.widget-view+json": {
       "model_id": "e3d629b455e746dd8a6181c62580d18b",
       "version_major": 2,
       "version_minor": 0
      },
      "text/plain": [
       "Text(value='')"
      ]
     },
     "metadata": {},
     "output_type": "display_data"
    }
   ],
   "source": [
    "#Input survey name\n",
    "\n",
    "from IPython.display import display\n",
    "input_text = widgets.Text()\n",
    "output_text = widgets.Text()\n",
    "\n",
    "def bind_input_to_output(sender):\n",
    "    output_text.value = input_text.value\n",
    "\n",
    "# Tell the text input widget to call bind_input_to_output() on submit\n",
    "input_text.on_submit(bind_input_to_output)\n",
    "\n",
    "printmd(\"<b><span style='color:red'>Input survey name here, press Enter, and then run the next cell:</span></b>\")\n",
    "# Display input text box widget for input\n",
    "display(input_text)\n",
    "\n",
    "display(output_text)\n"
   ]
  },
  {
   "cell_type": "code",
   "execution_count": 66,
   "metadata": {},
   "outputs": [
    {
     "data": {
      "text/markdown": [
       "<b><span style='color:red'>Survey Name is: </span></b>dod3"
      ],
      "text/plain": [
       "<IPython.core.display.Markdown object>"
      ]
     },
     "metadata": {},
     "output_type": "display_data"
    }
   ],
   "source": [
    "#Print survey name\n",
    "survey_name = output_text.value\n",
    "printmd(\"<b><span style='color:red'>Survey Name is: </span></b>\" + survey_name)"
   ]
  },
  {
   "cell_type": "markdown",
   "metadata": {},
   "source": [
    "## 8. Generate the survey and create survey URL"
   ]
  },
  {
   "cell_type": "code",
   "execution_count": 67,
   "metadata": {},
   "outputs": [
    {
     "data": {
      "text/markdown": [
       "<b><span style='color:red'>New survey created successfully</span></b>"
      ],
      "text/plain": [
       "<IPython.core.display.Markdown object>"
      ]
     },
     "metadata": {},
     "output_type": "display_data"
    },
    {
     "name": "stdout",
     "output_type": "stream",
     "text": [
      "https://suave-dev.sdsc.edu/main/file=ilyaj_dod3.csv&views=1110101&view=grid\n"
     ]
    },
    {
     "data": {
      "text/markdown": [
       "<b><span style='color:red'>Click the URL to open the new survey</span></b>"
      ],
      "text/plain": [
       "<IPython.core.display.Markdown object>"
      ]
     },
     "metadata": {},
     "output_type": "display_data"
    }
   ],
   "source": [
    "referer = survey_url.split(\"/main\")[0] +\"/\"\n",
    "upload_url = referer + \"uploadCSV\"\n",
    "new_survey_url_base = survey_url.split(user)[0]\n",
    "\n",
    "import requests\n",
    "import re\n",
    "csv = {\"file\": open(new_file, \"rb\")}\n",
    "upload_data = {\n",
    "    'name': input_text.value,\n",
    "    'dzc': dzc_file,\n",
    "    'user':user\n",
    "}\n",
    "headers = {\n",
    "    'User-Agent': 'suave user agent',\n",
    "    'referer': referer\n",
    "}\n",
    "\n",
    "r = requests.post(upload_url, files=csv, data=upload_data, headers=headers)\n",
    "\n",
    "if r.status_code == 200:\n",
    "    printmd(\"<b><span style='color:red'>New survey created successfully</span></b>\")\n",
    "    regex = re.compile('[^0-9a-zA-Z_]')\n",
    "    s_url = survey_name\n",
    "    s_url =  regex.sub('_', s_url)\n",
    "\n",
    "    url = new_survey_url_base + user + \"_\" + input_text.value + \".csv\" + \"&views=\" + views + \"&view=\" + view\n",
    "    print(url)\n",
    "    printmd(\"<b><span style='color:red'>Click the URL to open the new survey</span></b>\")\n",
    "else:\n",
    "    printmd(\"<b><span style='color:red'>Error creating new survey. Check if a survey with this name already exists.</span></b>\")\n",
    "    printmd(\"<b><span style='color:red'>Reason: </span></b>\"+ str(r.status_code) + \" \" + r.reason)\n",
    "\n"
   ]
  },
  {
   "cell_type": "code",
   "execution_count": null,
   "metadata": {},
   "outputs": [],
   "source": []
  }
 ],
 "metadata": {
  "kernelspec": {
   "display_name": "Python 3",
   "language": "python",
   "name": "python3"
  },
  "language_info": {
   "codemirror_mode": {
    "name": "ipython",
    "version": 3
   },
   "file_extension": ".py",
   "mimetype": "text/x-python",
   "name": "python",
   "nbconvert_exporter": "python",
   "pygments_lexer": "ipython3",
   "version": "3.5.2"
  }
 },
 "nbformat": 4,
 "nbformat_minor": 2
}
